{
 "cells": [
  {
   "cell_type": "markdown",
   "id": "01ea0faa",
   "metadata": {},
   "source": [
    "# Text Preprocessing\n",
    "\n",
    "In the previous notebook (`0-Exploratory-Data-Analysis`), we conducted a brief exploratory data analysis. Here we're going to work with Natural Language Processing (NLP) techniques  to create the text pre-processing pipeline needed to prepare our data to be used as input to Machine Learning models.\n",
    "\n",
    "### Importing Libraries"
   ]
  },
  {
   "cell_type": "code",
   "execution_count": 1,
   "id": "6d4cf9b3",
   "metadata": {},
   "outputs": [],
   "source": [
    "import zipfile\n",
    "import numpy as np\n",
    "import pandas as pd\n",
    "\n",
    "import re\n",
    "import nltk\n",
    "import unidecode"
   ]
  },
  {
   "cell_type": "markdown",
   "id": "707d093c",
   "metadata": {},
   "source": [
    "### Loading Data"
   ]
  },
  {
   "cell_type": "code",
   "execution_count": 2,
   "id": "9d7fb9fb",
   "metadata": {},
   "outputs": [
    {
     "name": "stdout",
     "output_type": "stream",
     "text": [
      "> We have 40977 written reviews.\n"
     ]
    },
    {
     "data": {
      "text/html": [
       "<div>\n",
       "<style scoped>\n",
       "    .dataframe tbody tr th:only-of-type {\n",
       "        vertical-align: middle;\n",
       "    }\n",
       "\n",
       "    .dataframe tbody tr th {\n",
       "        vertical-align: top;\n",
       "    }\n",
       "\n",
       "    .dataframe thead th {\n",
       "        text-align: right;\n",
       "    }\n",
       "</style>\n",
       "<table border=\"1\" class=\"dataframe\">\n",
       "  <thead>\n",
       "    <tr style=\"text-align: right;\">\n",
       "      <th></th>\n",
       "      <th>review_comment_message</th>\n",
       "      <th>review_score</th>\n",
       "    </tr>\n",
       "  </thead>\n",
       "  <tbody>\n",
       "    <tr>\n",
       "      <th>0</th>\n",
       "      <td>Recebi bem antes do prazo estipulado.</td>\n",
       "      <td>5</td>\n",
       "    </tr>\n",
       "    <tr>\n",
       "      <th>1</th>\n",
       "      <td>Parabéns lojas lannister adorei comprar pela I...</td>\n",
       "      <td>5</td>\n",
       "    </tr>\n",
       "    <tr>\n",
       "      <th>2</th>\n",
       "      <td>aparelho eficiente. no site a marca do aparelh...</td>\n",
       "      <td>4</td>\n",
       "    </tr>\n",
       "    <tr>\n",
       "      <th>3</th>\n",
       "      <td>Mas um pouco ,travando...pelo valor ta Boa.\\r\\n</td>\n",
       "      <td>4</td>\n",
       "    </tr>\n",
       "    <tr>\n",
       "      <th>4</th>\n",
       "      <td>Vendedor confiável, produto ok e entrega antes...</td>\n",
       "      <td>5</td>\n",
       "    </tr>\n",
       "  </tbody>\n",
       "</table>\n",
       "</div>"
      ],
      "text/plain": [
       "                              review_comment_message  review_score\n",
       "0              Recebi bem antes do prazo estipulado.             5\n",
       "1  Parabéns lojas lannister adorei comprar pela I...             5\n",
       "2  aparelho eficiente. no site a marca do aparelh...             4\n",
       "3    Mas um pouco ,travando...pelo valor ta Boa.\\r\\n             4\n",
       "4  Vendedor confiável, produto ok e entrega antes...             5"
      ]
     },
     "execution_count": 2,
     "metadata": {},
     "output_type": "execute_result"
    }
   ],
   "source": [
    "# Reading the zipfile containing the datasets\n",
    "zf = zipfile.ZipFile(\"data/olist-datasets.zip\")\n",
    "\n",
    "# Loading the order reviews dataset\n",
    "reviews_df = pd.read_csv(zf.open(\"olist_order_reviews_dataset.csv\"),\n",
    "                         parse_dates=['review_creation_date', \n",
    "                                      'review_answer_timestamp'])\n",
    "\n",
    "# Removing Orders without a Review\n",
    "reviews_df = (reviews_df[['review_comment_message', 'review_score']]\n",
    "              .dropna(subset=[\"review_comment_message\"])).reset_index(drop=True)\n",
    "print(f\"> We have {len(reviews_df)} written reviews.\")\n",
    "reviews_df.head()"
   ]
  },
  {
   "cell_type": "markdown",
   "id": "ea27785c",
   "metadata": {},
   "source": [
    "## 1. Removing New Lines\n",
    "___\n",
    "\n",
    "There are some symbols that indicate the end of a line (`\\r`, `\\n` and `\\r\\n`), which don't really help us to understand the text meaning. Let's create a simple regex for removing them: "
   ]
  },
  {
   "cell_type": "code",
   "execution_count": 3,
   "id": "72078433",
   "metadata": {},
   "outputs": [],
   "source": [
    "def remove_newline(text):\n",
    "    \"\"\" Removes new line symbols\n",
    "    \n",
    "    Args:\n",
    "        text (str): original text\n",
    "        \n",
    "    Returns:\n",
    "        (str): text without new line symbols\n",
    "    \"\"\"\n",
    "    \n",
    "    regex_pattern = \"[\\r|\\n|\\r\\n]\"\n",
    "    return re.sub(regex_pattern, \" \", text)"
   ]
  },
  {
   "cell_type": "markdown",
   "id": "a442760e",
   "metadata": {},
   "source": [
    "- **Example:**"
   ]
  },
  {
   "cell_type": "code",
   "execution_count": 4,
   "id": "f45f63e7",
   "metadata": {},
   "outputs": [
    {
     "name": "stdout",
     "output_type": "stream",
     "text": [
      "> Text before preprocessing:\n"
     ]
    },
    {
     "data": {
      "text/plain": [
       "'Mas um pouco ,travando...pelo valor ta Boa.\\r\\n'"
      ]
     },
     "metadata": {},
     "output_type": "display_data"
    },
    {
     "name": "stdout",
     "output_type": "stream",
     "text": [
      "\n",
      "> Text after preprocessing:\n"
     ]
    },
    {
     "data": {
      "text/plain": [
       "'Mas um pouco ,travando...pelo valor ta Boa.  '"
      ]
     },
     "metadata": {},
     "output_type": "display_data"
    }
   ],
   "source": [
    "example_text = reviews_df.iloc[3]['review_comment_message']\n",
    "print(\"> Text before preprocessing:\")\n",
    "display(example_text)\n",
    "print(\"\\n> Text after preprocessing:\")\n",
    "display(remove_newline(example_text))"
   ]
  },
  {
   "cell_type": "markdown",
   "id": "ffaee59d",
   "metadata": {},
   "source": [
    "## 2. Replacing Dates\n",
    "___\n",
    "\n",
    "In reviews, it is common to see dates on comments (sometimes a customer will write the specific date when he ordered/bought the product). A customer could also specify the month or day of week. Let's create a regex that will replace:\n",
    "- dates for the word `data`;\n",
    "- months for the word `mes`;\n",
    "- days of the week for the word `diasemana`.\n"
   ]
  },
  {
   "cell_type": "code",
   "execution_count": 5,
   "id": "92de0de9",
   "metadata": {},
   "outputs": [],
   "source": [
    "def replace_dates(text):\n",
    "    \"\"\" Replaces dates, months and days of the week for keywords\n",
    "    \n",
    "    Args:\n",
    "        text (str): original text\n",
    "        \n",
    "    Returns:\n",
    "        (str): preprocessed text    \n",
    "    \"\"\"\n",
    "    \n",
    "    date_pattern = \"(\\d+)(/|.)(\\d+)(/|.)(\\d+)\"\n",
    "    new_text = re.sub(date_pattern, \" data \", text)\n",
    "    \n",
    "    month_pattern = \"janeiro|fevereiro|março|abril|maio|junho|julho|agosto|setembro|outubro|novembro|dezembro\"\n",
    "    new_text = re.sub(month_pattern, \" mes \", new_text)\n",
    "    \n",
    "    day_pattern = \"segunda|terça|quarta|quinta|sexta|sabado|sábado|domingo\"\n",
    "    new_text = re.sub(day_pattern, \" diasemana \", new_text)\n",
    "    \n",
    "    return new_text"
   ]
  },
  {
   "cell_type": "markdown",
   "id": "5d1ba3f4",
   "metadata": {},
   "source": [
    "- **Example:**"
   ]
  },
  {
   "cell_type": "code",
   "execution_count": 6,
   "id": "33324e6e",
   "metadata": {},
   "outputs": [
    {
     "name": "stdout",
     "output_type": "stream",
     "text": [
      "> Text before preprocessing:\n"
     ]
    },
    {
     "data": {
      "text/plain": [
       "'fiz uma compra no dia 01/01/22, em janeiro, numa sexta'"
      ]
     },
     "metadata": {},
     "output_type": "display_data"
    },
    {
     "name": "stdout",
     "output_type": "stream",
     "text": [
      "\n",
      "> Text after preprocessing:\n"
     ]
    },
    {
     "data": {
      "text/plain": [
       "'fiz uma compra no dia  data , em  mes , numa  diasemana '"
      ]
     },
     "metadata": {},
     "output_type": "display_data"
    }
   ],
   "source": [
    "example_text = \"fiz uma compra no dia 01/01/22, em janeiro, numa sexta\"\n",
    "print(\"> Text before preprocessing:\")\n",
    "display(example_text)\n",
    "print(\"\\n> Text after preprocessing:\")\n",
    "display(replace_dates(example_text))"
   ]
  },
  {
   "cell_type": "markdown",
   "id": "880cf3c4",
   "metadata": {},
   "source": [
    "## 3. Replacing Numbers\n",
    "___\n",
    "\n",
    "We'll replace numbers with the word `numero`."
   ]
  },
  {
   "cell_type": "code",
   "execution_count": 7,
   "id": "37bb2cf8",
   "metadata": {},
   "outputs": [],
   "source": [
    "def replace_numbers(text):\n",
    "    \"\"\" Replaces numbers with the keyword 'numero'\n",
    "    \n",
    "    Args:\n",
    "        text (str): original text\n",
    "        \n",
    "    Returns:\n",
    "        (str): preprocessed text    \n",
    "    \"\"\"\n",
    "    \n",
    "    return re.sub(\"[0-9]+\", \" numero \", text)"
   ]
  },
  {
   "cell_type": "markdown",
   "id": "4da0845f",
   "metadata": {},
   "source": [
    "- **Example:**"
   ]
  },
  {
   "cell_type": "code",
   "execution_count": 8,
   "id": "c4314dad",
   "metadata": {},
   "outputs": [
    {
     "name": "stdout",
     "output_type": "stream",
     "text": [
      "> Text before preprocessing:\n"
     ]
    },
    {
     "data": {
      "text/plain": [
       "'gastei 1500 reais neste celular'"
      ]
     },
     "metadata": {},
     "output_type": "display_data"
    },
    {
     "name": "stdout",
     "output_type": "stream",
     "text": [
      "\n",
      "> Text after preprocessing:\n"
     ]
    },
    {
     "data": {
      "text/plain": [
       "'gastei  numero  reais neste celular'"
      ]
     },
     "metadata": {},
     "output_type": "display_data"
    }
   ],
   "source": [
    "example_text = \"gastei 1500 reais neste celular\"\n",
    "print(\"> Text before preprocessing:\")\n",
    "display(example_text)\n",
    "print(\"\\n> Text after preprocessing:\")\n",
    "display(replace_numbers(example_text))"
   ]
  },
  {
   "cell_type": "markdown",
   "id": "18222e40",
   "metadata": {},
   "source": [
    "## 4. Replacing Negation Words \n",
    "___\n",
    "\n",
    "In Portuguese, the word `não` is used to represent negation. And this word is usually listed as a stopword in many libraries, but removing this word may imply in a misinterpretation of the meaning of the text.\n",
    "\n",
    "So let's replace the words `não` with the keyword `negação`."
   ]
  },
  {
   "cell_type": "code",
   "execution_count": 9,
   "id": "ea67e555",
   "metadata": {},
   "outputs": [],
   "source": [
    "def replace_negation_words(text):\n",
    "    \"\"\" Replaces negation words with the keyword 'negação'\n",
    "    \n",
    "    Args:\n",
    "        text (str): original text\n",
    "    \n",
    "    Returns:\n",
    "        (str): preprocessed text\n",
    "    \"\"\"\n",
    "    \n",
    "    return re.sub(\"não|ñ|nao\", \" negação \", text)"
   ]
  },
  {
   "cell_type": "markdown",
   "id": "ed0b8d25",
   "metadata": {},
   "source": [
    "- **Example:**"
   ]
  },
  {
   "cell_type": "code",
   "execution_count": 10,
   "id": "1c22b506",
   "metadata": {},
   "outputs": [
    {
     "name": "stdout",
     "output_type": "stream",
     "text": [
      "> Text before preprocessing:\n"
     ]
    },
    {
     "data": {
      "text/plain": [
       "'não gostei do notebook que comprei nessa loja'"
      ]
     },
     "metadata": {},
     "output_type": "display_data"
    },
    {
     "name": "stdout",
     "output_type": "stream",
     "text": [
      "\n",
      "> Text after preprocessing:\n"
     ]
    },
    {
     "data": {
      "text/plain": [
       "' negação  gostei do notebook que comprei nessa loja'"
      ]
     },
     "metadata": {},
     "output_type": "display_data"
    }
   ],
   "source": [
    "example_text = \"não gostei do notebook que comprei nessa loja\"\n",
    "print(\"> Text before preprocessing:\")\n",
    "display(example_text)\n",
    "print(\"\\n> Text after preprocessing:\")\n",
    "display(replace_negation_words(example_text))"
   ]
  },
  {
   "cell_type": "markdown",
   "id": "02e48fe4",
   "metadata": {},
   "source": [
    "## 5. Removing additional whitespaces\n",
    "___\n",
    "\n",
    "As we can see in the examples above, some of our regex functions may end up adding more whitespaces to the text. Let's create a function to eliminate the unecessary whitespaces:"
   ]
  },
  {
   "cell_type": "code",
   "execution_count": 11,
   "id": "b5c8f167",
   "metadata": {},
   "outputs": [],
   "source": [
    "def remove_additional_whitespaces(text):\n",
    "    \"\"\" Removes additional whitespaces\n",
    "    \n",
    "    Args:\n",
    "        text (str): original text\n",
    "    \n",
    "    Returns:\n",
    "        (str): preprocessed text\n",
    "    \"\"\"\n",
    "    \n",
    "    new_text = re.sub(\"\\s+\", \" \", text)\n",
    "    new_text = new_text.strip()\n",
    "    return new_text"
   ]
  },
  {
   "cell_type": "code",
   "execution_count": 12,
   "id": "b6b442fa",
   "metadata": {},
   "outputs": [
    {
     "name": "stdout",
     "output_type": "stream",
     "text": [
      "> Text before preprocessing:\n"
     ]
    },
    {
     "data": {
      "text/plain": [
       "' negação  gostei do notebook que comprei nessa loja  '"
      ]
     },
     "metadata": {},
     "output_type": "display_data"
    },
    {
     "name": "stdout",
     "output_type": "stream",
     "text": [
      "\n",
      "> Text after preprocessing:\n"
     ]
    },
    {
     "data": {
      "text/plain": [
       "'negação gostei do notebook que comprei nessa loja'"
      ]
     },
     "metadata": {},
     "output_type": "display_data"
    }
   ],
   "source": [
    "example_text = ' negação  gostei do notebook que comprei nessa loja  '\n",
    "print(\"> Text before preprocessing:\")\n",
    "display(example_text)\n",
    "print(\"\\n> Text after preprocessing:\")\n",
    "display(remove_additional_whitespaces(example_text))"
   ]
  },
  {
   "cell_type": "markdown",
   "id": "deebc067",
   "metadata": {},
   "source": [
    "## 6. Removing Stopwords and Punctuation\n",
    "___\n",
    "\n",
    "\n",
    "There are many commonly used words that don't really help us understand a text. These are called **Stopwords**, which are filtered out when working with NLP.\n",
    "\n",
    "Let's import a list of portuguese stopwords available on `nltk` and create a function to remove them from our text:"
   ]
  },
  {
   "cell_type": "code",
   "execution_count": 13,
   "id": "224187e2",
   "metadata": {},
   "outputs": [],
   "source": [
    "# Importing the portuguese stopwords\n",
    "stopwords_ptbr = nltk.corpus.stopwords.words(\"portuguese\")"
   ]
  },
  {
   "cell_type": "code",
   "execution_count": 14,
   "id": "e14ea420",
   "metadata": {},
   "outputs": [],
   "source": [
    "def remove_stopwords_punctuation(text, stopwords):\n",
    "    \"\"\" Removes stopwords and punctuation\n",
    "    \n",
    "    Args:\n",
    "        text (str): original text\n",
    "        stopwords (list): list of stopwords\n",
    "        \n",
    "    Returns:\n",
    "        (str): preprocessed text    \n",
    "    \"\"\"\n",
    "    \n",
    "    tokens = nltk.tokenize.word_tokenize(text)\n",
    "    words = [t for t in tokens if t.isalpha() and t not in stopwords]\n",
    "    return \" \".join(words)"
   ]
  },
  {
   "cell_type": "markdown",
   "id": "fd0ff9e5",
   "metadata": {},
   "source": [
    "- **Example:**"
   ]
  },
  {
   "cell_type": "code",
   "execution_count": 15,
   "id": "6e398a35",
   "metadata": {},
   "outputs": [
    {
     "name": "stdout",
     "output_type": "stream",
     "text": [
      "> Text before preprocessing:\n"
     ]
    },
    {
     "data": {
      "text/plain": [
       "'o pedido foi entregue muito rápido!'"
      ]
     },
     "metadata": {},
     "output_type": "display_data"
    },
    {
     "name": "stdout",
     "output_type": "stream",
     "text": [
      "\n",
      "> Text after preprocessing:\n"
     ]
    },
    {
     "data": {
      "text/plain": [
       "'pedido entregue rápido'"
      ]
     },
     "metadata": {},
     "output_type": "display_data"
    }
   ],
   "source": [
    "example_text = \"o pedido foi entregue muito rápido!\"\n",
    "print(\"> Text before preprocessing:\")\n",
    "display(example_text)\n",
    "print(\"\\n> Text after preprocessing:\")\n",
    "display(remove_stopwords_punctuation(example_text, stopwords_ptbr))"
   ]
  },
  {
   "cell_type": "markdown",
   "id": "dbc3d9dc",
   "metadata": {},
   "source": [
    "## 7. Removing Accent Marks\n",
    "___\n",
    "\n",
    "Unlike English, in Portuguese we use many accents marks such as acute accent, cedilla, circumflex, diaeresis, grave accent and tilde.\n",
    "\n",
    "But many people may end up not accentuating the words. So let's create a function to remove these accent marks:"
   ]
  },
  {
   "cell_type": "code",
   "execution_count": 16,
   "id": "8bf7cd58",
   "metadata": {},
   "outputs": [],
   "source": [
    "def remove_accent_marks(text):\n",
    "    \"\"\" Removes accent marks\n",
    "    \n",
    "    Args:\n",
    "        text (str): original text\n",
    "    \n",
    "    Returns:\n",
    "        (str): preprocessed text\n",
    "    \"\"\"\n",
    "    \n",
    "    return unidecode.unidecode(text)"
   ]
  },
  {
   "cell_type": "markdown",
   "id": "65af3d50",
   "metadata": {},
   "source": [
    "- **Example:**"
   ]
  },
  {
   "cell_type": "code",
   "execution_count": 17,
   "id": "f9e594c8",
   "metadata": {},
   "outputs": [
    {
     "name": "stdout",
     "output_type": "stream",
     "text": [
      "> Text before preprocessing:\n"
     ]
    },
    {
     "data": {
      "text/plain": [
       "'ótimo rápido péssimo não'"
      ]
     },
     "metadata": {},
     "output_type": "display_data"
    },
    {
     "name": "stdout",
     "output_type": "stream",
     "text": [
      "\n",
      "> Text after preprocessing:\n"
     ]
    },
    {
     "data": {
      "text/plain": [
       "'otimo rapido pessimo nao'"
      ]
     },
     "metadata": {},
     "output_type": "display_data"
    }
   ],
   "source": [
    "example_text = \"ótimo rápido péssimo não\"\n",
    "print(\"> Text before preprocessing:\")\n",
    "display(example_text)\n",
    "print(\"\\n> Text after preprocessing:\")\n",
    "display(remove_accent_marks(example_text))"
   ]
  },
  {
   "cell_type": "markdown",
   "id": "6195704a",
   "metadata": {},
   "source": [
    "## 8. Stemming\n",
    "___\n",
    "\n",
    "Stemming is the process of reducing a word to its word stem that affixes to suffixes and prefixes or to the roots of words.\n",
    "\n",
    "The stem need not be identical to the morphological root of the word; it is usually sufficient that related words map to the same stem, even if this stem is not in itself a valid root.\n",
    "\n",
    "Let's create a function to extract the stem of each word in a text:"
   ]
  },
  {
   "cell_type": "code",
   "execution_count": 18,
   "id": "f7eea8c3",
   "metadata": {},
   "outputs": [],
   "source": [
    "def text_stemmer(text, stemmer):\n",
    "    \"\"\" Reduces each word of the text to its stem/root\n",
    "    \n",
    "    Args:\n",
    "        text (str): original text\n",
    "        stemmer (class): class of the stemmer\n",
    "        \n",
    "    Returns:\n",
    "        (str): preprocessed text\n",
    "\n",
    "    \"\"\"\n",
    "    return \" \".join([stemmer.stem(word) for word in text.split()])"
   ]
  },
  {
   "cell_type": "markdown",
   "id": "961c5cd7",
   "metadata": {},
   "source": [
    "- **Example:**"
   ]
  },
  {
   "cell_type": "code",
   "execution_count": 19,
   "id": "d7247320",
   "metadata": {},
   "outputs": [
    {
     "name": "stdout",
     "output_type": "stream",
     "text": [
      "> Text before preprocessing:\n"
     ]
    },
    {
     "data": {
      "text/plain": [
       "'fiz uma compra e o produto demorou muito tempo para chegar'"
      ]
     },
     "metadata": {},
     "output_type": "display_data"
    },
    {
     "name": "stdout",
     "output_type": "stream",
     "text": [
      "\n",
      "> Text after preprocessing:\n"
     ]
    },
    {
     "data": {
      "text/plain": [
       "'fiz uma compr e o produt demor muit temp par cheg'"
      ]
     },
     "metadata": {},
     "output_type": "display_data"
    }
   ],
   "source": [
    "nltk_stemmer = nltk.RSLPStemmer()\n",
    "\n",
    "example_text = \"fiz uma compra e o produto demorou muito tempo para chegar\"\n",
    "print(\"> Text before preprocessing:\")\n",
    "display(example_text)\n",
    "print(\"\\n> Text after preprocessing:\")\n",
    "display(text_stemmer(example_text, nltk_stemmer))"
   ]
  },
  {
   "cell_type": "markdown",
   "id": "65d0e772",
   "metadata": {},
   "source": [
    "## 9. Text Preprocessing Function\n",
    "___\n",
    "\n",
    "\n",
    "In the previous sections, we defined several text pre-processing functions. Now, let's create a function that will run the entire preprocessing pipeline: "
   ]
  },
  {
   "cell_type": "code",
   "execution_count": 35,
   "id": "9c9698ea",
   "metadata": {},
   "outputs": [],
   "source": [
    "def text_preprocessing(text, stopwords, stemmer):\n",
    "    \"\"\" Run the text preprocessing pipeline\n",
    "    \n",
    "    Args:\n",
    "        text (str): original text\n",
    "        stopwords (list): list of stopwords\n",
    "        stemmer (class): class of the stemmer\n",
    "        \n",
    "    Returns:\n",
    "        (str): preprocessed text\n",
    "    \n",
    "    \"\"\"\n",
    "    \n",
    "    new_text = text.lower()\n",
    "    new_text = remove_newline(new_text)\n",
    "    new_text = replace_dates(new_text)\n",
    "    new_text = replace_numbers(new_text)\n",
    "    new_text = replace_negation_words(new_text)\n",
    "    new_text = remove_additional_whitespaces(new_text)\n",
    "    new_text = remove_stopwords_punctuation(new_text, stopwords)\n",
    "    new_text = remove_accent_marks(new_text)\n",
    "    new_text = text_stemmer(new_text, stemmer)\n",
    "    return new_text"
   ]
  },
  {
   "cell_type": "markdown",
   "id": "48a4fe65",
   "metadata": {},
   "source": [
    "- **Example:**"
   ]
  },
  {
   "cell_type": "code",
   "execution_count": 38,
   "id": "0cf8b698",
   "metadata": {},
   "outputs": [
    {
     "name": "stdout",
     "output_type": "stream",
     "text": [
      "> Text before preprocessing:\n"
     ]
    },
    {
     "data": {
      "text/plain": [
       "'Sempre compro pela Internet e a entrega ocorre antes do prazo combinado, que acredito ser o prazo máximo. No stark o prazo máximo já se esgotou e ainda não recebi o produto.'"
      ]
     },
     "metadata": {},
     "output_type": "display_data"
    },
    {
     "name": "stdout",
     "output_type": "stream",
     "text": [
      "\n",
      "> Text after preprocessing:\n"
     ]
    },
    {
     "data": {
      "text/plain": [
       "'sempr compr internet entreg ocorr ant praz combin acredit ser praz max stark praz max esgot aind negaca receb produt'"
      ]
     },
     "metadata": {},
     "output_type": "display_data"
    }
   ],
   "source": [
    "example_text = reviews_df['review_comment_message'].iloc[12]\n",
    "print(\"> Text before preprocessing:\")\n",
    "display(example_text)\n",
    "print(\"\\n> Text after preprocessing:\")\n",
    "display(text_preprocessing(example_text, stopwords_ptbr, nltk_stemmer))"
   ]
  },
  {
   "cell_type": "markdown",
   "id": "26eb27fa",
   "metadata": {},
   "source": [
    "## 10. Preprocessing our Data \n",
    "___\n",
    "\n",
    "Ok. Now that we have created our preprocessing pipeline, let's preprocess all our data and create a new column called `preprocessed_review`:"
   ]
  },
  {
   "cell_type": "code",
   "execution_count": 44,
   "id": "078a41fb",
   "metadata": {},
   "outputs": [
    {
     "data": {
      "text/html": [
       "<div>\n",
       "<style scoped>\n",
       "    .dataframe tbody tr th:only-of-type {\n",
       "        vertical-align: middle;\n",
       "    }\n",
       "\n",
       "    .dataframe tbody tr th {\n",
       "        vertical-align: top;\n",
       "    }\n",
       "\n",
       "    .dataframe thead th {\n",
       "        text-align: right;\n",
       "    }\n",
       "</style>\n",
       "<table border=\"1\" class=\"dataframe\">\n",
       "  <thead>\n",
       "    <tr style=\"text-align: right;\">\n",
       "      <th></th>\n",
       "      <th>review_comment_message</th>\n",
       "      <th>review_score</th>\n",
       "      <th>preprocessed_review</th>\n",
       "    </tr>\n",
       "  </thead>\n",
       "  <tbody>\n",
       "    <tr>\n",
       "      <th>0</th>\n",
       "      <td>Recebi bem antes do prazo estipulado.</td>\n",
       "      <td>5</td>\n",
       "      <td>receb bem ant praz estipul</td>\n",
       "    </tr>\n",
       "    <tr>\n",
       "      <th>1</th>\n",
       "      <td>Parabéns lojas lannister adorei comprar pela I...</td>\n",
       "      <td>5</td>\n",
       "      <td>parab loj lannist ador compr internet segur pr...</td>\n",
       "    </tr>\n",
       "    <tr>\n",
       "      <th>2</th>\n",
       "      <td>aparelho eficiente. no site a marca do aparelh...</td>\n",
       "      <td>4</td>\n",
       "      <td>aparelh efici sit marc aparelh impress numer d...</td>\n",
       "    </tr>\n",
       "    <tr>\n",
       "      <th>3</th>\n",
       "      <td>Mas um pouco ,travando...pelo valor ta Boa.\\r\\n</td>\n",
       "      <td>4</td>\n",
       "      <td>pouc trav val ta boa</td>\n",
       "    </tr>\n",
       "    <tr>\n",
       "      <th>4</th>\n",
       "      <td>Vendedor confiável, produto ok e entrega antes...</td>\n",
       "      <td>5</td>\n",
       "      <td>vend confia produt ok entreg ant praz</td>\n",
       "    </tr>\n",
       "    <tr>\n",
       "      <th>...</th>\n",
       "      <td>...</td>\n",
       "      <td>...</td>\n",
       "      <td>...</td>\n",
       "    </tr>\n",
       "    <tr>\n",
       "      <th>40972</th>\n",
       "      <td>para este produto recebi de acordo com a compr...</td>\n",
       "      <td>4</td>\n",
       "      <td>produt receb acord compr realiz</td>\n",
       "    </tr>\n",
       "    <tr>\n",
       "      <th>40973</th>\n",
       "      <td>Entregou dentro do prazo. O produto chegou em ...</td>\n",
       "      <td>5</td>\n",
       "      <td>entreg dentr praz produt cheg condico perfeit ...</td>\n",
       "    </tr>\n",
       "    <tr>\n",
       "      <th>40974</th>\n",
       "      <td>O produto não foi enviado com NF, não existe v...</td>\n",
       "      <td>3</td>\n",
       "      <td>produt negaca envi nf negaca exist vend nf cer...</td>\n",
       "    </tr>\n",
       "    <tr>\n",
       "      <th>40975</th>\n",
       "      <td>Excelente mochila, entrega super rápida. Super...</td>\n",
       "      <td>5</td>\n",
       "      <td>excel mochil entreg sup rap sup recom loj</td>\n",
       "    </tr>\n",
       "    <tr>\n",
       "      <th>40976</th>\n",
       "      <td>meu produto chegou e ja tenho que devolver, po...</td>\n",
       "      <td>1</td>\n",
       "      <td>produt cheg ja devolv poi defeit negaca segur ...</td>\n",
       "    </tr>\n",
       "  </tbody>\n",
       "</table>\n",
       "<p>40977 rows × 3 columns</p>\n",
       "</div>"
      ],
      "text/plain": [
       "                                  review_comment_message  review_score  \\\n",
       "0                  Recebi bem antes do prazo estipulado.             5   \n",
       "1      Parabéns lojas lannister adorei comprar pela I...             5   \n",
       "2      aparelho eficiente. no site a marca do aparelh...             4   \n",
       "3        Mas um pouco ,travando...pelo valor ta Boa.\\r\\n             4   \n",
       "4      Vendedor confiável, produto ok e entrega antes...             5   \n",
       "...                                                  ...           ...   \n",
       "40972  para este produto recebi de acordo com a compr...             4   \n",
       "40973  Entregou dentro do prazo. O produto chegou em ...             5   \n",
       "40974  O produto não foi enviado com NF, não existe v...             3   \n",
       "40975  Excelente mochila, entrega super rápida. Super...             5   \n",
       "40976  meu produto chegou e ja tenho que devolver, po...             1   \n",
       "\n",
       "                                     preprocessed_review  \n",
       "0                             receb bem ant praz estipul  \n",
       "1      parab loj lannist ador compr internet segur pr...  \n",
       "2      aparelh efici sit marc aparelh impress numer d...  \n",
       "3                                   pouc trav val ta boa  \n",
       "4                  vend confia produt ok entreg ant praz  \n",
       "...                                                  ...  \n",
       "40972                    produt receb acord compr realiz  \n",
       "40973  entreg dentr praz produt cheg condico perfeit ...  \n",
       "40974  produt negaca envi nf negaca exist vend nf cer...  \n",
       "40975          excel mochil entreg sup rap sup recom loj  \n",
       "40976  produt cheg ja devolv poi defeit negaca segur ...  \n",
       "\n",
       "[40977 rows x 3 columns]"
      ]
     },
     "execution_count": 44,
     "metadata": {},
     "output_type": "execute_result"
    }
   ],
   "source": [
    "reviews_df['preprocessed_review'] = [text_preprocessing(text, stopwords_ptbr, nltk_stemmer)\n",
    "                                     for text in reviews_df['review_comment_message']]\n",
    "\n",
    "reviews_df"
   ]
  }
 ],
 "metadata": {
  "kernelspec": {
   "display_name": "Python 3 (ipykernel)",
   "language": "python",
   "name": "python3"
  },
  "language_info": {
   "codemirror_mode": {
    "name": "ipython",
    "version": 3
   },
   "file_extension": ".py",
   "mimetype": "text/x-python",
   "name": "python",
   "nbconvert_exporter": "python",
   "pygments_lexer": "ipython3",
   "version": "3.8.8"
  }
 },
 "nbformat": 4,
 "nbformat_minor": 5
}
