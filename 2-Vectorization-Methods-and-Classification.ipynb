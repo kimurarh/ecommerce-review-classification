{
 "cells": [
  {
   "cell_type": "markdown",
   "id": "b173c959",
   "metadata": {},
   "source": [
    "# Vectorization Methods and Classification\n",
    "\n",
    "In the previous notebook (`1-Text-Preprocessing`), we've created a text pre-processing pipeline.\n",
    "\n",
    "Here, we're going to apply the `TF-IDF` and `Word2Vec` vectorization methods to our preprocessed data and test it on some supervised machine learning algorithms.\n",
    "\n",
    "\n",
    "### Importing Libraries"
   ]
  },
  {
   "cell_type": "code",
   "execution_count": 24,
   "id": "7b713d05",
   "metadata": {},
   "outputs": [],
   "source": [
    "import zipfile\n",
    "import numpy as np\n",
    "import pandas as pd\n",
    "\n",
    "import matplotlib.pyplot as plt\n",
    "import seaborn as sns\n",
    "\n",
    "import nltk\n",
    "from sklearn.feature_extraction.text import TfidfVectorizer\n",
    "\n",
    "# Load preprocessing pipeline created in the previous notebook\n",
    "from utils import text_preprocessing\n",
    "\n",
    "# seaborn config\n",
    "sns.set(font_scale=1.2)\n",
    "sns.set_palette(\"pastel\")\n",
    "\n",
    "# Defining some colors\n",
    "gray = \"#9E9E9E\"\n",
    "blue = \"#4285F4\""
   ]
  },
  {
   "cell_type": "markdown",
   "id": "2de78820",
   "metadata": {},
   "source": [
    "### Loading Data"
   ]
  },
  {
   "cell_type": "code",
   "execution_count": 2,
   "id": "0b5ba0ab",
   "metadata": {},
   "outputs": [
    {
     "name": "stdout",
     "output_type": "stream",
     "text": [
      "> We have 40977 written reviews.\n"
     ]
    },
    {
     "data": {
      "text/html": [
       "<div>\n",
       "<style scoped>\n",
       "    .dataframe tbody tr th:only-of-type {\n",
       "        vertical-align: middle;\n",
       "    }\n",
       "\n",
       "    .dataframe tbody tr th {\n",
       "        vertical-align: top;\n",
       "    }\n",
       "\n",
       "    .dataframe thead th {\n",
       "        text-align: right;\n",
       "    }\n",
       "</style>\n",
       "<table border=\"1\" class=\"dataframe\">\n",
       "  <thead>\n",
       "    <tr style=\"text-align: right;\">\n",
       "      <th></th>\n",
       "      <th>review_comment_message</th>\n",
       "      <th>review_score</th>\n",
       "    </tr>\n",
       "  </thead>\n",
       "  <tbody>\n",
       "    <tr>\n",
       "      <th>0</th>\n",
       "      <td>Recebi bem antes do prazo estipulado.</td>\n",
       "      <td>5</td>\n",
       "    </tr>\n",
       "    <tr>\n",
       "      <th>1</th>\n",
       "      <td>Parabéns lojas lannister adorei comprar pela I...</td>\n",
       "      <td>5</td>\n",
       "    </tr>\n",
       "    <tr>\n",
       "      <th>2</th>\n",
       "      <td>aparelho eficiente. no site a marca do aparelh...</td>\n",
       "      <td>4</td>\n",
       "    </tr>\n",
       "    <tr>\n",
       "      <th>3</th>\n",
       "      <td>Mas um pouco ,travando...pelo valor ta Boa.\\r\\n</td>\n",
       "      <td>4</td>\n",
       "    </tr>\n",
       "    <tr>\n",
       "      <th>4</th>\n",
       "      <td>Vendedor confiável, produto ok e entrega antes...</td>\n",
       "      <td>5</td>\n",
       "    </tr>\n",
       "  </tbody>\n",
       "</table>\n",
       "</div>"
      ],
      "text/plain": [
       "                              review_comment_message  review_score\n",
       "0              Recebi bem antes do prazo estipulado.             5\n",
       "1  Parabéns lojas lannister adorei comprar pela I...             5\n",
       "2  aparelho eficiente. no site a marca do aparelh...             4\n",
       "3    Mas um pouco ,travando...pelo valor ta Boa.\\r\\n             4\n",
       "4  Vendedor confiável, produto ok e entrega antes...             5"
      ]
     },
     "execution_count": 2,
     "metadata": {},
     "output_type": "execute_result"
    }
   ],
   "source": [
    "# Reading the zipfile containing the datasets\n",
    "zf = zipfile.ZipFile(\"data/olist-datasets.zip\")\n",
    "\n",
    "# Loading the order reviews dataset\n",
    "reviews_df = pd.read_csv(zf.open(\"olist_order_reviews_dataset.csv\"),\n",
    "                         parse_dates=['review_creation_date', \n",
    "                                      'review_answer_timestamp'])\n",
    "\n",
    "# Removing Orders without a written review\n",
    "reviews_df = (reviews_df[['review_comment_message', 'review_score']]\n",
    "              .dropna(subset=[\"review_comment_message\"])).reset_index(drop=True)\n",
    "print(f\"> We have {len(reviews_df)} written reviews.\")\n",
    "reviews_df.head()"
   ]
  },
  {
   "cell_type": "markdown",
   "id": "f0762109",
   "metadata": {},
   "source": [
    "## 1. Creating our target\n",
    "___\n",
    "\n",
    "As we mentioned before, we are going to be working with **supervisioned machine learning algorithms** and try to predict the review score. But, as we saw in our EDA (`0-Exploratory-Data-Analysis.ipynb`), the score distribution is highly imbalanced in 5 different categories (1, 2, 3, 4 and 5).\n",
    "\n",
    "So, instead of working with multiple classes we'll transform our problem into a binary classification problem.\n",
    "\n",
    "We are going to split the written reviews as follows:\n",
    "- **[1]** Positive Reviews: review_score > 3\n",
    "- **[0]** Negative Reviews: review_score <= 3\n"
   ]
  },
  {
   "cell_type": "code",
   "execution_count": 17,
   "id": "84f953cf",
   "metadata": {},
   "outputs": [
    {
     "data": {
      "text/html": [
       "<div>\n",
       "<style scoped>\n",
       "    .dataframe tbody tr th:only-of-type {\n",
       "        vertical-align: middle;\n",
       "    }\n",
       "\n",
       "    .dataframe tbody tr th {\n",
       "        vertical-align: top;\n",
       "    }\n",
       "\n",
       "    .dataframe thead th {\n",
       "        text-align: right;\n",
       "    }\n",
       "</style>\n",
       "<table border=\"1\" class=\"dataframe\">\n",
       "  <thead>\n",
       "    <tr style=\"text-align: right;\">\n",
       "      <th></th>\n",
       "      <th>review_comment_message</th>\n",
       "      <th>review_score</th>\n",
       "      <th>preprocessed_review</th>\n",
       "      <th>positive_review</th>\n",
       "    </tr>\n",
       "  </thead>\n",
       "  <tbody>\n",
       "    <tr>\n",
       "      <th>19915</th>\n",
       "      <td>Ótima entrega rápida excelente loja comprarei ...</td>\n",
       "      <td>5</td>\n",
       "      <td>otim entreg rap excel loj compr sempr</td>\n",
       "      <td>1</td>\n",
       "    </tr>\n",
       "    <tr>\n",
       "      <th>18217</th>\n",
       "      <td>Fiquei bem chateado, estalou esperando meu pro...</td>\n",
       "      <td>1</td>\n",
       "      <td>fiq bem chate estal esper produt agor fic sab ...</td>\n",
       "      <td>0</td>\n",
       "    </tr>\n",
       "    <tr>\n",
       "      <th>17185</th>\n",
       "      <td>Não efetuou a entrega</td>\n",
       "      <td>1</td>\n",
       "      <td>negaca efetu entreg</td>\n",
       "      <td>0</td>\n",
       "    </tr>\n",
       "    <tr>\n",
       "      <th>35822</th>\n",
       "      <td>Produto perfeito entregue antes do prazo,recom...</td>\n",
       "      <td>5</td>\n",
       "      <td>produt perfeit entreg ant praz recom loj</td>\n",
       "      <td>1</td>\n",
       "    </tr>\n",
       "    <tr>\n",
       "      <th>32016</th>\n",
       "      <td>Entregue a tempo e em condições</td>\n",
       "      <td>5</td>\n",
       "      <td>entreg temp condico</td>\n",
       "      <td>1</td>\n",
       "    </tr>\n",
       "  </tbody>\n",
       "</table>\n",
       "</div>"
      ],
      "text/plain": [
       "                                  review_comment_message  review_score  \\\n",
       "19915  Ótima entrega rápida excelente loja comprarei ...             5   \n",
       "18217  Fiquei bem chateado, estalou esperando meu pro...             1   \n",
       "17185                              Não efetuou a entrega             1   \n",
       "35822  Produto perfeito entregue antes do prazo,recom...             5   \n",
       "32016                   Entregue a tempo e em condições              5   \n",
       "\n",
       "                                     preprocessed_review  positive_review  \n",
       "19915              otim entreg rap excel loj compr sempr                1  \n",
       "18217  fiq bem chate estal esper produt agor fic sab ...                0  \n",
       "17185                                negaca efetu entreg                0  \n",
       "35822           produt perfeit entreg ant praz recom loj                1  \n",
       "32016                                entreg temp condico                1  "
      ]
     },
     "execution_count": 17,
     "metadata": {},
     "output_type": "execute_result"
    }
   ],
   "source": [
    "reviews_df[\"positive_review\"] = reviews_df['review_score'].apply(lambda x: 1 if x>3 else 0)\n",
    "reviews_df.sample(5)"
   ]
  },
  {
   "cell_type": "markdown",
   "id": "eef2cb49",
   "metadata": {},
   "source": [
    "- **Target distribution:**"
   ]
  },
  {
   "cell_type": "code",
   "execution_count": 32,
   "id": "9dc73b7b",
   "metadata": {},
   "outputs": [
    {
     "data": {
      "image/png": "[encoded data removed]",
      "text/plain": [
       "<Figure size 1008x432 with 1 Axes>"
      ]
     },
     "metadata": {},
     "output_type": "display_data"
    }
   ],
   "source": [
    "target_count = (reviews_df['positive_review']\n",
    "                .value_counts()\n",
    "                .rename({1: \"positive_review\",\n",
    "                     0: \"negative_review\"}))\n",
    "\n",
    "# Pie Chart\n",
    "plt.figure(figsize=(14,6))\n",
    "plt.pie(target_count, \n",
    "        labels = target_count.index,\n",
    "        colors = [blue, gray],\n",
    "        autopct='%.2f%%')\n",
    "plt.show()"
   ]
  },
  {
   "cell_type": "markdown",
   "id": "52bd1593",
   "metadata": {},
   "source": [
    "## 1. Preprocessing Data\n",
    "___\n",
    "\n",
    "First, let's run our preprocessing pipeline on our data:"
   ]
  },
  {
   "cell_type": "code",
   "execution_count": 3,
   "id": "ecb7cde8",
   "metadata": {},
   "outputs": [],
   "source": [
    "# Loading the portuguese stopwords and nltk stemmer\n",
    "stopwords_ptbr = nltk.corpus.stopwords.words(\"portuguese\")\n",
    "nltk_stemmer = nltk.RSLPStemmer()\n",
    "\n",
    "# Running our preprocessing pipeline\n",
    "reviews_df['preprocessed_review'] = [text_preprocessing(text, stopwords_ptbr, nltk_stemmer)\n",
    "                                     for text in reviews_df['review_comment_message']]"
   ]
  },
  {
   "cell_type": "code",
   "execution_count": 4,
   "id": "4a7bcd5c",
   "metadata": {},
   "outputs": [
    {
     "data": {
      "text/html": [
       "<div>\n",
       "<style scoped>\n",
       "    .dataframe tbody tr th:only-of-type {\n",
       "        vertical-align: middle;\n",
       "    }\n",
       "\n",
       "    .dataframe tbody tr th {\n",
       "        vertical-align: top;\n",
       "    }\n",
       "\n",
       "    .dataframe thead th {\n",
       "        text-align: right;\n",
       "    }\n",
       "</style>\n",
       "<table border=\"1\" class=\"dataframe\">\n",
       "  <thead>\n",
       "    <tr style=\"text-align: right;\">\n",
       "      <th></th>\n",
       "      <th>review_comment_message</th>\n",
       "      <th>review_score</th>\n",
       "      <th>preprocessed_review</th>\n",
       "    </tr>\n",
       "  </thead>\n",
       "  <tbody>\n",
       "    <tr>\n",
       "      <th>0</th>\n",
       "      <td>Recebi bem antes do prazo estipulado.</td>\n",
       "      <td>5</td>\n",
       "      <td>receb bem ant praz estipul</td>\n",
       "    </tr>\n",
       "    <tr>\n",
       "      <th>1</th>\n",
       "      <td>Parabéns lojas lannister adorei comprar pela I...</td>\n",
       "      <td>5</td>\n",
       "      <td>parab loj lannist ador compr internet segur pr...</td>\n",
       "    </tr>\n",
       "    <tr>\n",
       "      <th>2</th>\n",
       "      <td>aparelho eficiente. no site a marca do aparelh...</td>\n",
       "      <td>4</td>\n",
       "      <td>aparelh efici sit marc aparelh impress numer d...</td>\n",
       "    </tr>\n",
       "    <tr>\n",
       "      <th>3</th>\n",
       "      <td>Mas um pouco ,travando...pelo valor ta Boa.\\r\\n</td>\n",
       "      <td>4</td>\n",
       "      <td>pouc trav val ta boa</td>\n",
       "    </tr>\n",
       "    <tr>\n",
       "      <th>4</th>\n",
       "      <td>Vendedor confiável, produto ok e entrega antes...</td>\n",
       "      <td>5</td>\n",
       "      <td>vend confia produt ok entreg ant praz</td>\n",
       "    </tr>\n",
       "    <tr>\n",
       "      <th>...</th>\n",
       "      <td>...</td>\n",
       "      <td>...</td>\n",
       "      <td>...</td>\n",
       "    </tr>\n",
       "    <tr>\n",
       "      <th>40972</th>\n",
       "      <td>para este produto recebi de acordo com a compr...</td>\n",
       "      <td>4</td>\n",
       "      <td>produt receb acord compr realiz</td>\n",
       "    </tr>\n",
       "    <tr>\n",
       "      <th>40973</th>\n",
       "      <td>Entregou dentro do prazo. O produto chegou em ...</td>\n",
       "      <td>5</td>\n",
       "      <td>entreg dentr praz produt cheg condico perfeit ...</td>\n",
       "    </tr>\n",
       "    <tr>\n",
       "      <th>40974</th>\n",
       "      <td>O produto não foi enviado com NF, não existe v...</td>\n",
       "      <td>3</td>\n",
       "      <td>produt negaca envi nf negaca exist vend nf cer...</td>\n",
       "    </tr>\n",
       "    <tr>\n",
       "      <th>40975</th>\n",
       "      <td>Excelente mochila, entrega super rápida. Super...</td>\n",
       "      <td>5</td>\n",
       "      <td>excel mochil entreg sup rap sup recom loj</td>\n",
       "    </tr>\n",
       "    <tr>\n",
       "      <th>40976</th>\n",
       "      <td>meu produto chegou e ja tenho que devolver, po...</td>\n",
       "      <td>1</td>\n",
       "      <td>produt cheg ja devolv poi defeit negaca segur ...</td>\n",
       "    </tr>\n",
       "  </tbody>\n",
       "</table>\n",
       "<p>40977 rows × 3 columns</p>\n",
       "</div>"
      ],
      "text/plain": [
       "                                  review_comment_message  review_score  \\\n",
       "0                  Recebi bem antes do prazo estipulado.             5   \n",
       "1      Parabéns lojas lannister adorei comprar pela I...             5   \n",
       "2      aparelho eficiente. no site a marca do aparelh...             4   \n",
       "3        Mas um pouco ,travando...pelo valor ta Boa.\\r\\n             4   \n",
       "4      Vendedor confiável, produto ok e entrega antes...             5   \n",
       "...                                                  ...           ...   \n",
       "40972  para este produto recebi de acordo com a compr...             4   \n",
       "40973  Entregou dentro do prazo. O produto chegou em ...             5   \n",
       "40974  O produto não foi enviado com NF, não existe v...             3   \n",
       "40975  Excelente mochila, entrega super rápida. Super...             5   \n",
       "40976  meu produto chegou e ja tenho que devolver, po...             1   \n",
       "\n",
       "                                     preprocessed_review  \n",
       "0                             receb bem ant praz estipul  \n",
       "1      parab loj lannist ador compr internet segur pr...  \n",
       "2      aparelh efici sit marc aparelh impress numer d...  \n",
       "3                                   pouc trav val ta boa  \n",
       "4                  vend confia produt ok entreg ant praz  \n",
       "...                                                  ...  \n",
       "40972                    produt receb acord compr realiz  \n",
       "40973  entreg dentr praz produt cheg condico perfeit ...  \n",
       "40974  produt negaca envi nf negaca exist vend nf cer...  \n",
       "40975          excel mochil entreg sup rap sup recom loj  \n",
       "40976  produt cheg ja devolv poi defeit negaca segur ...  \n",
       "\n",
       "[40977 rows x 3 columns]"
      ]
     },
     "execution_count": 4,
     "metadata": {},
     "output_type": "execute_result"
    }
   ],
   "source": [
    "reviews_df"
   ]
  },
  {
   "cell_type": "code",
   "execution_count": null,
   "id": "095ad133",
   "metadata": {},
   "outputs": [],
   "source": []
  }
 ],
 "metadata": {
  "kernelspec": {
   "display_name": "Python 3 (ipykernel)",
   "language": "python",
   "name": "python3"
  },
  "language_info": {
   "codemirror_mode": {
    "name": "ipython",
    "version": 3
   },
   "file_extension": ".py",
   "mimetype": "text/x-python",
   "name": "python",
   "nbconvert_exporter": "python",
   "pygments_lexer": "ipython3",
   "version": "3.8.8"
  }
 },
 "nbformat": 4,
 "nbformat_minor": 5
}
